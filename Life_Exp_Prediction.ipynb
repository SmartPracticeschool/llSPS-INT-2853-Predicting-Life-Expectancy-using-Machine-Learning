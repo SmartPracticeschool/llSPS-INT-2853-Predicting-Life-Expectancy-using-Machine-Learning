{
    "cells": [
        {
            "cell_type": "markdown",
            "metadata": {},
            "source": "## Life Expectancy Prediction"
        },
        {
            "cell_type": "markdown",
            "metadata": {},
            "source": "## Data Preprocessing Stage"
        },
        {
            "cell_type": "code",
            "execution_count": 7,
            "metadata": {
                "scrolled": true
            },
            "outputs": [],
            "source": "import pandas as pd\nimport numpy as np\nimport matplotlib.pyplot as plt"
        },
        {
            "cell_type": "markdown",
            "metadata": {},
            "source": "Importing Dataset and rearranging dataset so as to seperate dependent and independent varibles"
        },
        {
            "cell_type": "code",
            "execution_count": 13,
            "metadata": {
                "scrolled": true
            },
            "outputs": [
                {
                    "data": {
                        "text/html": "<div>\n<style scoped>\n    .dataframe tbody tr th:only-of-type {\n        vertical-align: middle;\n    }\n\n    .dataframe tbody tr th {\n        vertical-align: top;\n    }\n\n    .dataframe thead th {\n        text-align: right;\n    }\n</style>\n<table border=\"1\" class=\"dataframe\">\n  <thead>\n    <tr style=\"text-align: right;\">\n      <th></th>\n      <th>Country</th>\n      <th>Year</th>\n      <th>Status</th>\n      <th>Life expectancy</th>\n      <th>Adult Mortality</th>\n      <th>infant deaths</th>\n      <th>Alcohol</th>\n      <th>percentage expenditure</th>\n      <th>Hepatitis B</th>\n      <th>Measles</th>\n      <th>...</th>\n      <th>Polio</th>\n      <th>Total expenditure</th>\n      <th>Diphtheria</th>\n      <th>HIV/AIDS</th>\n      <th>GDP</th>\n      <th>Population</th>\n      <th>thinness  1-19 years</th>\n      <th>thinness 5-9 years</th>\n      <th>Income composition of resources</th>\n      <th>Schooling</th>\n    </tr>\n  </thead>\n  <tbody>\n    <tr>\n      <th>0</th>\n      <td>Afghanistan</td>\n      <td>2015</td>\n      <td>Developing</td>\n      <td>65.0</td>\n      <td>263.0</td>\n      <td>62</td>\n      <td>0.01</td>\n      <td>71.279624</td>\n      <td>65.0</td>\n      <td>1154</td>\n      <td>...</td>\n      <td>6.0</td>\n      <td>8.16</td>\n      <td>65.0</td>\n      <td>0.1</td>\n      <td>584.259210</td>\n      <td>33736494.0</td>\n      <td>17.2</td>\n      <td>17.3</td>\n      <td>0.479</td>\n      <td>10.1</td>\n    </tr>\n    <tr>\n      <th>1</th>\n      <td>Afghanistan</td>\n      <td>2014</td>\n      <td>Developing</td>\n      <td>59.9</td>\n      <td>271.0</td>\n      <td>64</td>\n      <td>0.01</td>\n      <td>73.523582</td>\n      <td>62.0</td>\n      <td>492</td>\n      <td>...</td>\n      <td>58.0</td>\n      <td>8.18</td>\n      <td>62.0</td>\n      <td>0.1</td>\n      <td>612.696514</td>\n      <td>327582.0</td>\n      <td>17.5</td>\n      <td>17.5</td>\n      <td>0.476</td>\n      <td>10.0</td>\n    </tr>\n    <tr>\n      <th>2</th>\n      <td>Afghanistan</td>\n      <td>2013</td>\n      <td>Developing</td>\n      <td>59.9</td>\n      <td>268.0</td>\n      <td>66</td>\n      <td>0.01</td>\n      <td>73.219243</td>\n      <td>64.0</td>\n      <td>430</td>\n      <td>...</td>\n      <td>62.0</td>\n      <td>8.13</td>\n      <td>64.0</td>\n      <td>0.1</td>\n      <td>631.744976</td>\n      <td>31731688.0</td>\n      <td>17.7</td>\n      <td>17.7</td>\n      <td>0.470</td>\n      <td>9.9</td>\n    </tr>\n    <tr>\n      <th>3</th>\n      <td>Afghanistan</td>\n      <td>2012</td>\n      <td>Developing</td>\n      <td>59.5</td>\n      <td>272.0</td>\n      <td>69</td>\n      <td>0.01</td>\n      <td>78.184215</td>\n      <td>67.0</td>\n      <td>2787</td>\n      <td>...</td>\n      <td>67.0</td>\n      <td>8.52</td>\n      <td>67.0</td>\n      <td>0.1</td>\n      <td>669.959000</td>\n      <td>3696958.0</td>\n      <td>17.9</td>\n      <td>18.0</td>\n      <td>0.463</td>\n      <td>9.8</td>\n    </tr>\n    <tr>\n      <th>4</th>\n      <td>Afghanistan</td>\n      <td>2011</td>\n      <td>Developing</td>\n      <td>59.2</td>\n      <td>275.0</td>\n      <td>71</td>\n      <td>0.01</td>\n      <td>7.097109</td>\n      <td>68.0</td>\n      <td>3013</td>\n      <td>...</td>\n      <td>68.0</td>\n      <td>7.87</td>\n      <td>68.0</td>\n      <td>0.1</td>\n      <td>63.537231</td>\n      <td>2978599.0</td>\n      <td>18.2</td>\n      <td>18.2</td>\n      <td>0.454</td>\n      <td>9.5</td>\n    </tr>\n  </tbody>\n</table>\n<p>5 rows \u00d7 22 columns</p>\n</div>",
                        "text/plain": "       Country  Year      Status  Life expectancy   Adult Mortality  \\\n0  Afghanistan  2015  Developing              65.0            263.0   \n1  Afghanistan  2014  Developing              59.9            271.0   \n2  Afghanistan  2013  Developing              59.9            268.0   \n3  Afghanistan  2012  Developing              59.5            272.0   \n4  Afghanistan  2011  Developing              59.2            275.0   \n\n   infant deaths  Alcohol  percentage expenditure  Hepatitis B  Measles   ...  \\\n0             62     0.01               71.279624         65.0      1154  ...   \n1             64     0.01               73.523582         62.0       492  ...   \n2             66     0.01               73.219243         64.0       430  ...   \n3             69     0.01               78.184215         67.0      2787  ...   \n4             71     0.01                7.097109         68.0      3013  ...   \n\n   Polio  Total expenditure  Diphtheria    HIV/AIDS         GDP  Population  \\\n0    6.0               8.16         65.0        0.1  584.259210  33736494.0   \n1   58.0               8.18         62.0        0.1  612.696514    327582.0   \n2   62.0               8.13         64.0        0.1  631.744976  31731688.0   \n3   67.0               8.52         67.0        0.1  669.959000   3696958.0   \n4   68.0               7.87         68.0        0.1   63.537231   2978599.0   \n\n    thinness  1-19 years   thinness 5-9 years  \\\n0                   17.2                 17.3   \n1                   17.5                 17.5   \n2                   17.7                 17.7   \n3                   17.9                 18.0   \n4                   18.2                 18.2   \n\n   Income composition of resources  Schooling  \n0                            0.479       10.1  \n1                            0.476       10.0  \n2                            0.470        9.9  \n3                            0.463        9.8  \n4                            0.454        9.5  \n\n[5 rows x 22 columns]"
                    },
                    "execution_count": 13,
                    "metadata": {},
                    "output_type": "execute_result"
                }
            ],
            "source": "# The code was removed by Watson Studio for sharing."
        },
        {
            "cell_type": "code",
            "execution_count": 14,
            "metadata": {
                "scrolled": true
            },
            "outputs": [
                {
                    "name": "stdout",
                    "output_type": "stream",
                    "text": "[['Afghanistan' 2015 'Developing' ... 17.3 19.1 10.1]\n ['Afghanistan' 2014 'Developing' ... 17.5 18.6 10.0]\n ['Afghanistan' 2013 'Developing' ... 17.7 18.1 9.9]\n ...\n ['Zimbabwe' 2002 'Developing' ... 1.3 26.3 10.0]\n ['Zimbabwe' 2001 'Developing' ... 1.7 25.9 9.8]\n ['Zimbabwe' 2000 'Developing' ... 11.2 25.5 9.8]]\n[65.  59.9 59.9 ... 44.8 45.3 46. ]\n"
                }
            ],
            "source": "df_data_2 = df_data_2[df_data_2.columns[[3,0,1,2,4,5,6,7,8,9,10,11,12,13,14,15,16,17,18,19,10,21]]] #rearranging the dataset\nX = df_data_2.iloc[:, 1:].values\ny = df_data_2.iloc[:, 0].values"
        },
        {
            "cell_type": "markdown",
            "metadata": {},
            "source": "Handling Missing values "
        },
        {
            "cell_type": "code",
            "execution_count": 15,
            "metadata": {
                "scrolled": true
            },
            "outputs": [
                {
                    "name": "stderr",
                    "output_type": "stream",
                    "text": "/opt/conda/envs/Python36/lib/python3.6/site-packages/sklearn/utils/deprecation.py:58: DeprecationWarning: Class Imputer is deprecated; Imputer was deprecated in version 0.20 and will be removed in 0.22. Import impute.SimpleImputer from sklearn instead.\n  warnings.warn(msg, category=DeprecationWarning)\n/opt/conda/envs/Python36/lib/python3.6/site-packages/sklearn/utils/deprecation.py:58: DeprecationWarning: Class Imputer is deprecated; Imputer was deprecated in version 0.20 and will be removed in 0.22. Import impute.SimpleImputer from sklearn instead.\n  warnings.warn(msg, category=DeprecationWarning)\n"
                }
            ],
            "source": "from sklearn.preprocessing import Imputer\nImputer_x = Imputer(missing_values = \"NaN\", strategy = 'mean', axis = 0)\n     #fit imputer mean to missing values that require mean\nImputer_x = Imputer_x.fit(X[:,3:])\nX[:,3:] = Imputer_x.transform(X[:,3:])\n\nImputer_y = Imputer(missing_values = \"NaN\", strategy = 'mean', axis = 0)\n     #fit imputer mean to missing values that require mean\nImputer_y = Imputer_y.fit(y.reshape(-1, 1))\ny = Imputer_y.transform(y.reshape(-1, 1))"
        },
        {
            "cell_type": "code",
            "execution_count": 16,
            "metadata": {},
            "outputs": [
                {
                    "name": "stdout",
                    "output_type": "stream",
                    "text": "[['Afghanistan' 2015 'Developing' ... 17.3 19.1 10.1]\n ['Afghanistan' 2014 'Developing' ... 17.5 18.6 10.0]\n ['Afghanistan' 2013 'Developing' ... 17.7 18.1 9.9]\n ...\n ['Zimbabwe' 2002 'Developing' ... 1.3 26.3 10.0]\n ['Zimbabwe' 2001 'Developing' ... 1.7 25.9 9.8]\n ['Zimbabwe' 2000 'Developing' ... 11.2 25.5 9.8]]\n[[65. ]\n [59.9]\n [59.9]\n ...\n [44.8]\n [45.3]\n [46. ]]\n"
                }
            ],
            "source": "print(X)\nprint(y)"
        },
        {
            "cell_type": "markdown",
            "metadata": {},
            "source": "Handling categorical variables"
        },
        {
            "cell_type": "code",
            "execution_count": 17,
            "metadata": {},
            "outputs": [
                {
                    "name": "stderr",
                    "output_type": "stream",
                    "text": "/opt/conda/envs/Python36/lib/python3.6/site-packages/sklearn/preprocessing/_encoders.py:371: FutureWarning: The handling of integer data will change in version 0.22. Currently, the categories are determined based on the range [0, max(values)], while in the future they will be determined based on the unique values.\nIf you want the future behaviour and silence this warning, you can specify \"categories='auto'\".\nIn case you used a LabelEncoder before this OneHotEncoder to convert the categories to integers, then you can now use the OneHotEncoder directly.\n  warnings.warn(msg, FutureWarning)\n/opt/conda/envs/Python36/lib/python3.6/site-packages/sklearn/preprocessing/_encoders.py:392: DeprecationWarning: The 'categorical_features' keyword is deprecated in version 0.20 and will be removed in 0.22. You can use the ColumnTransformer instead.\n  \"use the ColumnTransformer instead.\", DeprecationWarning)\n"
                }
            ],
            "source": "from sklearn.preprocessing import LabelEncoder, OneHotEncoder\n\nlabelencoder_X_country = LabelEncoder()\nX[:, 0] = labelencoder_X_country.fit_transform(X[:, 0])\n\nlabelencoder_X_year = LabelEncoder()\nX[:, 1] = labelencoder_X_year.fit_transform(X[:,1])\n\nlabelencoder_X_Status = LabelEncoder()\nX[:,2] = labelencoder_X_Status.fit_transform(X[:, 2])\n\nonehotencoder = OneHotEncoder(categorical_features = [0,1,2])\nX= onehotencoder.fit_transform(X).toarray()"
        },
        {
            "cell_type": "markdown",
            "metadata": {},
            "source": "## Splitting Dataset"
        },
        {
            "cell_type": "code",
            "execution_count": 18,
            "metadata": {
                "scrolled": true
            },
            "outputs": [],
            "source": "from sklearn.model_selection import train_test_split\nx_train , x_test,y_train , y_test  = train_test_split(X , y , test_size = 0.25)"
        },
        {
            "cell_type": "markdown",
            "metadata": {},
            "source": "## Feature Scaling of values to Scale them"
        },
        {
            "cell_type": "code",
            "execution_count": 19,
            "metadata": {
                "scrolled": true
            },
            "outputs": [],
            "source": "from sklearn.preprocessing import StandardScaler\nscale_x = StandardScaler()\nx_train = scale_x.fit_transform(x_train)\nx_test = scale_x.transform(x_test)\n\nscale_y = StandardScaler()\ny_train = scale_y.fit_transform(y_train.reshape(-1, 1))\ny_test = scale_y.transform(y_test.reshape(-1, 1))"
        },
        {
            "cell_type": "markdown",
            "metadata": {},
            "source": "## Training ML Model"
        },
        {
            "cell_type": "code",
            "execution_count": 20,
            "metadata": {
                "scrolled": true
            },
            "outputs": [
                {
                    "name": "stderr",
                    "output_type": "stream",
                    "text": "/opt/conda/envs/Python36/lib/python3.6/site-packages/sklearn/svm/base.py:196: FutureWarning: The default value of gamma will change from 'auto' to 'scale' in version 0.22 to account better for unscaled features. Set gamma explicitly to 'auto' or 'scale' to avoid this warning.\n  \"avoid this warning.\", FutureWarning)\n"
                },
                {
                    "data": {
                        "text/plain": "SVR(C=1.0, cache_size=200, coef0=0.0, degree=3, epsilon=0.1,\n  gamma='auto_deprecated', kernel='rbf', max_iter=-1, shrinking=True,\n  tol=0.001, verbose=False)"
                    },
                    "execution_count": 20,
                    "metadata": {},
                    "output_type": "execute_result"
                }
            ],
            "source": "from sklearn.svm import SVR\nregressor = SVR(kernel = 'rbf')\nregressor.fit(x_train, y_train.ravel())"
        },
        {
            "cell_type": "markdown",
            "metadata": {},
            "source": "## Predicting the test set results"
        },
        {
            "cell_type": "code",
            "execution_count": 21,
            "metadata": {
                "scrolled": true
            },
            "outputs": [
                {
                    "name": "stdout",
                    "output_type": "stream",
                    "text": "[[71.82 72.6 ]\n [76.88 77.  ]\n [77.25 77.2 ]\n ...\n [73.22 73.2 ]\n [70.44 71.5 ]\n [65.97 66.  ]]\n"
                }
            ],
            "source": "y_pred = regressor.predict(x_test)\nnp.set_printoptions(precision=2)\nprint(np.concatenate((scale_y.inverse_transform(y_pred).reshape(len(y_pred),1), scale_y.inverse_transform(y_test).reshape(len(y_test),1)),1))"
        },
        {
            "cell_type": "markdown",
            "metadata": {},
            "source": "## Evaluation of model Performance"
        },
        {
            "cell_type": "code",
            "execution_count": 22,
            "metadata": {
                "scrolled": true
            },
            "outputs": [
                {
                    "data": {
                        "text/plain": "0.9537263718239003"
                    },
                    "execution_count": 22,
                    "metadata": {},
                    "output_type": "execute_result"
                }
            ],
            "source": "from sklearn.metrics import r2_score\nr2_score(scale_y.inverse_transform(y_test),scale_y.inverse_transform( y_pred))"
        },
        {
            "cell_type": "markdown",
            "metadata": {},
            "source": "## Deployment code"
        },
        {
            "cell_type": "code",
            "execution_count": 23,
            "metadata": {
                "scrolled": true
            },
            "outputs": [],
            "source": "from watson_machine_learning_client import WatsonMachineLearningAPIClient\n\nwml_credentials={\n   \"apikey\": \"fS3MV_WX4S-55PGycyAhyNGmRCe1F78aOhFPCqwab7Ip\",\n   \"iam_apikey_description\": \"Auto-generated for key c727e43f-1329-4881-8c0c-a8c5826f8d7f\",\n   \"iam_apikey_name\": \"Service credentials-1\",\n   \"iam_role_crn\": \"crn:v1:bluemix:public:iam::::serviceRole:Writer\",\n   \"iam_serviceid_crn\": \"crn:v1:bluemix:public:iam-identity::a/2b8912695c064f3caad60ffb9f881945::serviceid:ServiceId-c6d53d3f-752d-47c3-bdb1-48b1b0814e9d\",\n   \"instance_id\": \"39446403-9d82-46a4-8b1f-e9d53a441f01\",\n   \"url\": \"https://eu-gb.ml.cloud.ibm.com\"\n}"
        },
        {
            "cell_type": "code",
            "execution_count": 24,
            "metadata": {
                "scrolled": true
            },
            "outputs": [],
            "source": "client = WatsonMachineLearningAPIClient(wml_credentials)"
        },
        {
            "cell_type": "code",
            "execution_count": 25,
            "metadata": {
                "scrolled": true
            },
            "outputs": [],
            "source": "metadata={\n    client.repository.ModelMetaNames.DESCRIPTION:'Life Expectancy',\n    client.repository.ModelMetaNames.AUTHOR_NAME:'Aaditya',\n    client.repository.ModelMetaNames.NAME:\"LifeExpSVM\",\n    client.repository.ModelMetaNames.FRAMEWORK_NAME:\"scikit-learn\",\n    client.repository.ModelMetaNames.FRAMEWORK_VERSION:\"0.22\"\n    \n}"
        },
        {
            "cell_type": "code",
            "execution_count": 26,
            "metadata": {
                "scrolled": true
            },
            "outputs": [],
            "source": "model_details=client.repository.store_model( regressor ,meta_props=metadata)"
        },
        {
            "cell_type": "code",
            "execution_count": 27,
            "metadata": {
                "scrolled": true
            },
            "outputs": [
                {
                    "data": {
                        "text/plain": "'728977cf-3a85-42f9-b1d4-74b59ae0cde1'"
                    },
                    "execution_count": 27,
                    "metadata": {},
                    "output_type": "execute_result"
                }
            ],
            "source": "published_model_uid=client.repository.get_model_uid(model_details)\npublished_model_uid"
        },
        {
            "cell_type": "code",
            "execution_count": 28,
            "metadata": {
                "scrolled": true
            },
            "outputs": [
                {
                    "name": "stdout",
                    "output_type": "stream",
                    "text": "\n\n#######################################################################################\n\nSynchronous deployment creation for uid: '728977cf-3a85-42f9-b1d4-74b59ae0cde1' started\n\n#######################################################################################\n\n\nINITIALIZING\nDEPLOY_SUCCESS\n\n\n------------------------------------------------------------------------------------------------\nSuccessfully finished deployment creation, deployment_uid='abb7f0e7-216b-455f-ba10-33126387fd83'\n------------------------------------------------------------------------------------------------\n\n\n"
                }
            ],
            "source": "# Creating deployment\ncreated_deployment=client.deployments.create(published_model_uid,name=\"SVM\")"
        },
        {
            "cell_type": "code",
            "execution_count": 29,
            "metadata": {
                "scrolled": true
            },
            "outputs": [
                {
                    "data": {
                        "text/plain": "'https://eu-gb.ml.cloud.ibm.com/v3/wml_instances/39446403-9d82-46a4-8b1f-e9d53a441f01/deployments/abb7f0e7-216b-455f-ba10-33126387fd83/online'"
                    },
                    "execution_count": 29,
                    "metadata": {},
                    "output_type": "execute_result"
                }
            ],
            "source": "# Gettingn Endpoints\nscoring_endpoint = client.deployments.get_scoring_url(created_deployment)\nscoring_endpoint"
        },
        {
            "cell_type": "code",
            "execution_count": 30,
            "metadata": {
                "scrolled": true
            },
            "outputs": [
                {
                    "name": "stdout",
                    "output_type": "stream",
                    "text": "------------------------------------  ----  ------  --------------  ------------------------  -----------------  -------------\nGUID                                  NAME  TYPE    STATE           CREATED                   FRAMEWORK          ARTIFACT TYPE\nabb7f0e7-216b-455f-ba10-33126387fd83  SVM   online  DEPLOY_SUCCESS  2020-07-04T12:14:03.587Z  scikit-learn-0.20  model\n------------------------------------  ----  ------  --------------  ------------------------  -----------------  -------------\n"
                }
            ],
            "source": "client.deployments.list()"
        }
    ],
    "metadata": {
        "kernelspec": {
            "display_name": "Python 3.6",
            "language": "python",
            "name": "python3"
        },
        "language_info": {
            "codemirror_mode": {
                "name": "ipython",
                "version": 3
            },
            "file_extension": ".py",
            "mimetype": "text/x-python",
            "name": "python",
            "nbconvert_exporter": "python",
            "pygments_lexer": "ipython3",
            "version": "3.6.9"
        }
    },
    "nbformat": 4,
    "nbformat_minor": 4
}