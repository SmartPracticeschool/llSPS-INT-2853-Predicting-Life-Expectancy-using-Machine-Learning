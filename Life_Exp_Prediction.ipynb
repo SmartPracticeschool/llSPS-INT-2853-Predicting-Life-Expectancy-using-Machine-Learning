{
    "cells": [
        {
            "cell_type": "markdown",
            "metadata": {},
            "source": "## Life Expectancy Prediction"
        },
        {
            "cell_type": "markdown",
            "metadata": {},
            "source": "## Data Preprocessing Stage"
        },
        {
            "cell_type": "code",
            "execution_count": null,
            "metadata": {
                "scrolled": true
            },
            "outputs": [],
            "source": "import pandas as pd\nimport numpy as np\nimport matplotlib.pyplot as plt"
        },
        {
            "cell_type": "markdown",
            "metadata": {},
            "source": "Importing Dataset and rearranging dataset so as to seperate dependent and independent varibles"
        },
        {
            "cell_type": "code",
            "execution_count": null,
            "metadata": {
                "scrolled": true
            },
            "outputs": [],
            "source": "# The code was removed by Watson Studio for sharing."
        },
        {
            "cell_type": "code",
            "execution_count": null,
            "metadata": {
                "scrolled": true
            },
            "outputs": [],
            "source": "df_data_2 = df_data_2[df_data_2.columns[[3,0,1,2,4,5,6,7,8,9,10,11,12,13,14,15,16,17,18,19,10,21]]] #rearranging the dataset\nX = df_data_2.iloc[:, 1:].values\ny = df_data_2.iloc[:, 0].values"
        },
        {
            "cell_type": "markdown",
            "metadata": {},
            "source": "Handling Missing values "
        },
        {
            "cell_type": "code",
            "execution_count": null,
            "metadata": {
                "scrolled": true
            },
            "outputs": [],
            "source": "from sklearn.preprocessing import Imputer\nImputer_x = Imputer(missing_values = \"NaN\", strategy = 'mean', axis = 0)\n     #fit imputer mean to missing values that require mean\nImputer_x = Imputer_x.fit(X[:,3:])\nX[:,3:] = Imputer_x.transform(X[:,3:])\n\nImputer_y = Imputer(missing_values = \"NaN\", strategy = 'mean', axis = 0)\n     #fit imputer mean to missing values that require mean\nImputer_y = Imputer_y.fit(y.reshape(-1, 1))\ny = Imputer_y.transform(y.reshape(-1, 1))"
        },
        {
            "cell_type": "code",
            "execution_count": null,
            "metadata": {},
            "outputs": [],
            "source": "print(X)\nprint(y)"
        },
        {
            "cell_type": "markdown",
            "metadata": {},
            "source": "Handling categorical variables"
        },
        {
            "cell_type": "code",
            "execution_count": null,
            "metadata": {},
            "outputs": [],
            "source": "from sklearn.preprocessing import LabelEncoder, OneHotEncoder\n\nlabelencoder_X_country = LabelEncoder()\nX[:, 0] = labelencoder_X_country.fit_transform(X[:, 0])\n\nlabelencoder_X_year = LabelEncoder()\nX[:, 1] = labelencoder_X_year.fit_transform(X[:,1])\n\nlabelencoder_X_Status = LabelEncoder()\nX[:,2] = labelencoder_X_Status.fit_transform(X[:, 2])\n\nonehotencoder = OneHotEncoder(categorical_features = [0,1,2])\nX= onehotencoder.fit_transform(X).toarray()"
        },
        {
            "cell_type": "markdown",
            "metadata": {},
            "source": "## Splitting Dataset"
        },
        {
            "cell_type": "code",
            "execution_count": null,
            "metadata": {
                "scrolled": true
            },
            "outputs": [],
            "source": "from sklearn.model_selection import train_test_split\nx_train , x_test,y_train , y_test  = train_test_split(X , y , test_size = 0.25)"
        },
        {
            "cell_type": "markdown",
            "metadata": {},
            "source": "## Feature Scaling of values to Scale them"
        },
        {
            "cell_type": "code",
            "execution_count": null,
            "metadata": {
                "scrolled": true
            },
            "outputs": [],
            "source": "from sklearn.preprocessing import StandardScaler\nscale_x = StandardScaler()\nx_train = scale_x.fit_transform(x_train)\nx_test = scale_x.transform(x_test)\n\nscale_y = StandardScaler()\ny_train = scale_y.fit_transform(y_train.reshape(-1, 1))\ny_test = scale_y.transform(y_test.reshape(-1, 1))"
        },
        {
            "cell_type": "markdown",
            "metadata": {},
            "source": "## Training ML Model"
        },
        {
            "cell_type": "code",
            "execution_count": null,
            "metadata": {
                "scrolled": true
            },
            "outputs": [],
            "source": "from sklearn.svm import SVR\nregressor = SVR(kernel = 'rbf')\nregressor.fit(x_train, y_train.ravel())"
        },
        {
            "cell_type": "markdown",
            "metadata": {},
            "source": "## Predicting the test set results"
        },
        {
            "cell_type": "code",
            "execution_count": null,
            "metadata": {
                "scrolled": true
            },
            "outputs": [],
            "source": "y_pred = regressor.predict(x_test)\nnp.set_printoptions(precision=2)\nprint(np.concatenate((scale_y.inverse_transform(y_pred).reshape(len(y_pred),1), scale_y.inverse_transform(y_test).reshape(len(y_test),1)),1))"
        },
        {
            "cell_type": "markdown",
            "metadata": {},
            "source": "## Evaluation of model Performance"
        },
        {
            "cell_type": "code",
            "execution_count": null,
            "metadata": {
                "scrolled": true
            },
            "outputs": [],
            "source": "from sklearn.metrics import r2_score\nr2_score(scale_y.inverse_transform(y_test),scale_y.inverse_transform( y_pred))"
        },
        {
            "cell_type": "markdown",
            "metadata": {},
            "source": "## Deployment code"
        },
        {
            "cell_type": "code",
            "execution_count": null,
            "metadata": {
                "scrolled": true
            },
            "outputs": [],
            "source": "from watson_machine_learning_client import WatsonMachineLearningAPIClient\n\nwml_credentials={\n  \"apikey\": \"FzWa9Ig_0hxvvOy5a_sTnEMf63t4D38MhXkx5XriUjPP\",\n  \"iam_apikey_description\": \"Auto-generated for key 8bfe8078-d209-4991-9f35-54e855004667\",\n  \"iam_apikey_name\": \"Service credentials-1\",\n  \"iam_role_crn\": \"crn:v1:bluemix:public:iam::::serviceRole:Writer\",\n  \"iam_serviceid_crn\": \"crn:v1:bluemix:public:iam-identity::a/2b8912695c064f3caad60ffb9f881945::serviceid:ServiceId-546e0dd9-ad63-4c58-87a5-cf852c1bd2fb\",\n  \"instance_id\": \"39446403-9d82-46a4-8b1f-e9d53a441f01\",\n  \"url\": \"https://eu-gb.ml.cloud.ibm.com\"\n}"
        },
        {
            "cell_type": "code",
            "execution_count": null,
            "metadata": {
                "scrolled": true
            },
            "outputs": [],
            "source": "client = WatsonMachineLearningAPIClient(wml_credentials)"
        },
        {
            "cell_type": "code",
            "execution_count": null,
            "metadata": {
                "scrolled": true
            },
            "outputs": [],
            "source": "metadata={\n    client.repository.ModelMetaNames.DESCRIPTION:'Life Expectancy',\n    client.repository.ModelMetaNames.AUTHOR_NAME:'Aaditya',\n    client.repository.ModelMetaNames.NAME:\"LifeExpSVM\",\n    client.repository.ModelMetaNames.FRAMEWORK_NAME:\"scikit-learn\",\n    client.repository.ModelMetaNames.FRAMEWORK_VERSION:\"0.22\"\n    \n}"
        },
        {
            "cell_type": "code",
            "execution_count": null,
            "metadata": {
                "scrolled": true
            },
            "outputs": [],
            "source": "model_details=client.repository.store_model( regressor ,meta_props=metadata)"
        },
        {
            "cell_type": "code",
            "execution_count": null,
            "metadata": {
                "scrolled": true
            },
            "outputs": [],
            "source": "published_model_uid=client.repository.get_model_uid(model_details)\npublished_model_uid"
        },
        {
            "cell_type": "code",
            "execution_count": null,
            "metadata": {
                "scrolled": true
            },
            "outputs": [],
            "source": "# Creating deployment\ncreated_deployment=client.deployments.create(published_model_uid,name=\"SVM\")"
        },
        {
            "cell_type": "code",
            "execution_count": null,
            "metadata": {
                "scrolled": true
            },
            "outputs": [],
            "source": "# Gettingn Endpoints\nscoring_endpoint = client.deployments.get_scoring_url(created_deployment)\nscoring_endpoint"
        },
        {
            "cell_type": "code",
            "execution_count": null,
            "metadata": {
                "scrolled": true
            },
            "outputs": [],
            "source": "client.deployments.list()"
        }
    ],
    "metadata": {
        "kernelspec": {
            "display_name": "Python 3.6",
            "language": "python",
            "name": "python3"
        },
        "language_info": {
            "codemirror_mode": {
                "name": "ipython",
                "version": 3
            },
            "file_extension": ".py",
            "mimetype": "text/x-python",
            "name": "python",
            "nbconvert_exporter": "python",
            "pygments_lexer": "ipython3",
            "version": "3.6.9"
        }
    },
    "nbformat": 4,
    "nbformat_minor": 4
}